{
 "cells": [
  {
   "cell_type": "markdown",
   "metadata": {},
   "source": [
    "# <center>Задание 5.</center>"
   ]
  },
  {
   "cell_type": "markdown",
   "metadata": {},
   "source": [
    "Нелинейная система описывается следующим выражением:\n",
    "$$\\begin{array}{rcl} y(n) = \\sum_{k=1}^{K-1} a_k X(n - k) + b_k X(n - k) | X(n - k) |^{2} + c_k X(n - k) | X(n - k) |^{4} \\end{array}$$\n",
    "\n",
    "с некоторыми ненулевыми коэффициентами $a$,$b$ и $c$ которые задаются случайно.\n",
    "\n",
    "Необходимо построить адаптивный фильтр, оценивающий данные коэффициенты системы в условиях шумов. Подразумевается, что оценивающий фильтр не знает об истинных значениях коэффциентов.\n",
    "Задачей адаптивного фильтра является минимизация мощности ошибки $e$ в соответсвии со структурной схемой:\n",
    "\n",
    "<img src='1.png'>\n",
    "\n",
    "Требуется составить математические уравнения для определения коэффициентов адаптивного фильтра и написать простую программу в Matlab или на языке C, показывающую верность указанных уравнений на произвольных тестовых данных.\n",
    "\n"
   ]
  },
  {
   "cell_type": "code",
   "execution_count": null,
   "metadata": {},
   "outputs": [],
   "source": []
  },
  {
   "cell_type": "code",
   "execution_count": null,
   "metadata": {},
   "outputs": [],
   "source": []
  },
  {
   "cell_type": "markdown",
   "metadata": {},
   "source": [
    "## Решение."
   ]
  },
  {
   "cell_type": "code",
   "execution_count": 2,
   "metadata": {},
   "outputs": [],
   "source": [
    "import numpy as np\n",
    "\n",
    "import matplotlib.pyplot as plt\n",
    "import matplotlib as mpl\n",
    "%matplotlib inline"
   ]
  },
  {
   "cell_type": "code",
   "execution_count": 3,
   "metadata": {},
   "outputs": [],
   "source": [
    "#функция, формирующая сиграл X\n",
    "def X(x):\n",
    "    real = np.sin(x) ** 2 \n",
    "    imag = np.cos(x + 0.3)\n",
    "    return complex(real, imag)"
   ]
  },
  {
   "cell_type": "code",
   "execution_count": 64,
   "metadata": {},
   "outputs": [],
   "source": [
    "#описание нелинейной системы\n",
    "def Y(K, N):\n",
    "    \n",
    "    h0 = [np.random.uniform(low=0, high=1, size=N)][0].T\n",
    "    h1 = [np.random.uniform(low=0, high=1, size=N)][0].T\n",
    "    h2 = [np.random.uniform(low=0, high=1, size=N)][0].T\n",
    "    \n",
    "    \"\"\"print(\"real h0 = \")\n",
    "    print(h0)\n",
    "    print(\"real h1 = \")\n",
    "    print(h1)\n",
    "    print(\"real h2 = \")\n",
    "    print(h2)\"\"\"\n",
    "    \n",
    "    Y = np.array(np.zeros(len(K)), dtype=complex)\n",
    "    \n",
    "    sum = 0\n",
    "    nonl = 0\n",
    "    \n",
    "    for k in np.arange(len(K)):\n",
    "        sum = complex(0, 0)                   \n",
    "        for n in np.arange(N):\n",
    "            #sum += (a[k] * X(n - k) + b[k] * X(n - k) * np.power(np.abs(X(n - k)), 2) + \n",
    "                    #c[k] * X(n - k) * np.power(np.abs(X(n - k)), 4))\n",
    "            \n",
    "            sum += complex(h0[n] * X(k - n).real, h0[n] * X(k - n).imag) + \\\n",
    "                h1[n] * pow(abs(complex(h2[n] * X(k).real, h2[n] * X(k).imag)), n)\n",
    "            \n",
    "            #nonl += h1[n] * pow(abs(complex(h2[n] * X(k).real, h0[n] * X(k).imag)), n)\n",
    "            \n",
    "            #print(nonl)\n",
    "        Y[k] = sum\n",
    "        \n",
    "        \n",
    "        \n",
    "        \n",
    "    \n",
    "\n",
    "    return Y"
   ]
  },
  {
   "cell_type": "markdown",
   "metadata": {},
   "source": [
    "### Подготовим данные для обучения\n",
    "Сгенерируем данные $Y$, которые будут являться вектором истинных ответов"
   ]
  },
  {
   "cell_type": "code",
   "execution_count": 65,
   "metadata": {},
   "outputs": [
    {
     "name": "stdout",
     "output_type": "stream",
     "text": [
      "\n",
      " Y[:5] = \n"
     ]
    },
    {
     "data": {
      "text/plain": [
       "(array([2.46443365+0.6239325j , 3.4897345 +0.94578129j,\n",
       "        4.68976739+0.39808312j, 2.63461926-0.51561083j,\n",
       "        3.18281131-0.95525457j]), (10,), (10,))"
      ]
     },
     "execution_count": 65,
     "metadata": {},
     "output_type": "execute_result"
    }
   ],
   "source": [
    "K_train = np.array(np.arange(10))\n",
    "N = 10\n",
    "y_train = Y(K_train, N)\n",
    "\n",
    "print('\\n Y[:5] = ') \n",
    "y_train[:5], N_train.shape, y_train.shape"
   ]
  },
  {
   "cell_type": "markdown",
   "metadata": {},
   "source": [
    "Опишем модель, которой будем аппроксимировать функционал, описывающий нелинейную систему:\n",
    "\n",
    "$$\\begin{array}{rcl} \\acute{y}(n) = \\sum_{k=1}^{K-1} \\hat{a} X(n - k) + \\hat{b} X(n - k) | X(n - k) |^{2} + \\hat{c} X(n - k) | X(n - k) |^{4} \\end{array}$$"
   ]
  },
  {
   "cell_type": "code",
   "execution_count": 70,
   "metadata": {},
   "outputs": [],
   "source": [
    "def Y_predict(K, N, h0, h1, h2):\n",
    "    \n",
    "    Y = np.array(np.zeros(len(K)), dtype=complex)\n",
    "    sum = 0\n",
    "    for k in np.arange(len(K)):\n",
    "        sum = complex(0, 0)                   \n",
    "        for n in np.arange(N):\n",
    "            #sum +=  * X(n - k) + b * X(n - k) * np.power(np.abs(X(n - k)), 2) + c * X(n - k) * np.power(np.abs(X(n - k)), 4)\n",
    "            sum += complex(h0 * X(k - n).real, h0 * X(k - n).imag) + \\\n",
    "                h1 * pow(abs(complex(h2 * X(k).real, h2 * X(k).imag)), n)\n",
    "        Y[k] = sum\n",
    "\n",
    "    return Y"
   ]
  },
  {
   "cell_type": "code",
   "execution_count": 71,
   "metadata": {},
   "outputs": [
    {
     "data": {
      "text/plain": [
       "(array([2.46443365+0.6239325j , 3.4897345 +0.94578129j,\n",
       "        4.68976739+0.39808312j, 2.63461926-0.51561083j,\n",
       "        3.18281131-0.95525457j, 4.98830195-0.51664166j,\n",
       "        2.8154061 +0.39696921j, 2.89311804+0.94560841j,\n",
       "        5.08614237+0.62485961j, 3.00515063-0.27038224j]),\n",
       " array([22.87540541+1.10618953j, 14.24741656+0.38485101j,\n",
       "        47.94392278-0.69031775j, 27.3313485 -1.13081155j,\n",
       "        13.31792135-0.53164243j, 53.19455819+0.55631629j,\n",
       "        30.15215717+1.13280038j, 12.97447086+0.66779303j,\n",
       "        51.38505771-0.41118016j, 31.02360665-1.1121162j ]))"
      ]
     },
     "execution_count": 71,
     "metadata": {},
     "output_type": "execute_result"
    }
   ],
   "source": [
    "y_pred = Y_predict(N_train, K, 1, 1, 1)\n",
    "y_train, y_pred"
   ]
  },
  {
   "cell_type": "markdown",
   "metadata": {},
   "source": [
    "Опишем оптимизируемый функционал:\n",
    "\n",
    "Задача: найти такие веса $a$, $b$ и $c$, чтобы при прогнозе  $\\acute{y}_k = \\hat{a} X(n - k) + \\hat{b} X(n - k) | X(n - k) |^{2} + \\hat{c} X(n - k) | X(n - k) |^{4}$ минимизировать квадратичную ошибку:\n",
    "\n",
    "$$SE(a, b, c) = \\sum_{k=1}^K(y_k - \\acute{y}_k)^2 \\rightarrow min_{a,b,c}$$\n",
    "\n",
    "Делать мы это будем с помощью градиентного спуска, численно посчитав частные производные функции $SE(a, b, c)$ по весам в модели – $a$, $b$ и $c$.\n",
    "Итеративную процедуру обучени будем задаваться простыми формулами обновления весов (меняем веса так, чтобы делать небольшой, пропорционально малой константе $\\eta$, шаг в сторону антиградиента функции):\n",
    "\n",
    "$$\\begin{array}{rcl} a^{(t+1)} = a^{(t)} -\\eta \\frac{\\partial SE}{\\partial a} |_{t} \\\\  b^{(t+1)} = b^{(t)} -\\eta \\frac{\\partial SE}{\\partial b} |_{t} \\\\ c^{(t+1)} = c^{(t)} -\\eta \\frac{\\partial SE}{\\partial c} |_{t} \\end{array}$$\n",
    "    "
   ]
  },
  {
   "cell_type": "code",
   "execution_count": 95,
   "metadata": {},
   "outputs": [],
   "source": [
    "#оптимизируемый функционал\n",
    "\n",
    "#квадрат ошибки\n",
    "def f_MSE(y, K, N, h0, h1, h2):\n",
    "    return np.sum((y - Y_predict(K, N, h0, h1, h2))**2)\n",
    "\n",
    "\n",
    "def Batch_Gradient(y_train, N, K, a = 1, b = 1, c = 1, \n",
    "                   leaning_rate = .001, h = .0005, observational = 0.00001, printing = True):\n",
    "    \"\"\"\n",
    "    :param y_train: вектор истинных ответов\n",
    "    :param N: параметр модели аппроксимации\n",
    "    :param K: параметр моедли аппроксимации\n",
    "    :param a: оцениваемый параметр (вес модели)\n",
    "    :param b: оцениваемый параметр (вес модели)\n",
    "    :param c: оцениваемый параметр (вес модели)\n",
    "    :param leaning_rate: шаг градиентного спуска\n",
    "    :param h: delta(x) - шаг для численного расчета частной производной функции в окрестности точки Y(x),\n",
    "                         малая величина\n",
    "    :observational: точность вычисления или разность между предыдущим и текущим значением веса (малая велчина)\n",
    "    :printing: флаг печати промежуточных значений расчета\n",
    "    :return: оценки параметров a, b, c\n",
    "    \"\"\"\n",
    "    MSE = []\n",
    "    MSE.append(f_MSE(y_train, N, K, a, b, c))\n",
    "    \n",
    "    for i in np.arange(10000):\n",
    "        a_old = a\n",
    "        b_old = b\n",
    "        c_old = c\n",
    "        \n",
    "        a -= leaning_rate * (f_MSE(y_train, N, K, a + h, b, c) - f_MSE(y_train, N, K, a, b, c)) / h\n",
    "        b -= leaning_rate * (f_MSE(y_train, N, K, a, b + h, c) - f_MSE(y_train, N, K, a, b, c)) / h\n",
    "        c -= leaning_rate * (f_MSE(y_train, N, K, a, b, c + h) - f_MSE(y_train, N, K, a, b, c)) / h\n",
    "        \n",
    "        MSE.append(f_MSE(y_train, N, K, a, b, c))\n",
    "        if (printing):\n",
    "            print(\"Iteration {0}: MSE = {1:.6f}, a = {2:.6f}, b = {3:.6f}, c = {4:.6f}\".format(i, MSE[i], a, b, c))\n",
    "        \n",
    "        if (np.abs(a_old - a) < observational) and (np.abs(b_old - b) < observational) and \\\n",
    "        (np.abs(c_old - c) < observational) and (np.abs(MSE[i] - MSE[i - 1]) < observational):\n",
    "            return MSE, a, b, c\n",
    "            #break\n",
    "            "
   ]
  },
  {
   "cell_type": "code",
   "execution_count": 111,
   "metadata": {},
   "outputs": [
    {
     "name": "stdout",
     "output_type": "stream",
     "text": [
      "Iteration 0: MSE = 196.676656, a = 0.559701, b = 0.867672, c = 0.924989\n",
      "Iteration 1: MSE = 29.696940, a = 0.392687, b = 0.817403, c = 0.896336\n",
      "Iteration 2: MSE = 5.668019, a = 0.329397, b = 0.798280, c = 0.885278\n",
      "Iteration 3: MSE = 2.216238, a = 0.305476, b = 0.790977, c = 0.880898\n",
      "Iteration 4: MSE = 1.722633, a = 0.296498, b = 0.788162, c = 0.879054\n",
      "Iteration 5: MSE = 1.652849, a = 0.293191, b = 0.787050, c = 0.878171\n",
      "Iteration 6: MSE = 1.643236, a = 0.292037, b = 0.786584, c = 0.877654\n",
      "Iteration 7: MSE = 1.641955, a = 0.291699, b = 0.786364, c = 0.877276\n",
      "Iteration 8: MSE = 1.641748, a = 0.291671, b = 0.786237, c = 0.876951\n"
     ]
    }
   ],
   "source": [
    "MSE, a, b, c = Batch_Gradient(y_train=y_train, N=N_train, K=K, leaning_rate=.001, h=.0005, observational=.001)"
   ]
  },
  {
   "cell_type": "code",
   "execution_count": 112,
   "metadata": {},
   "outputs": [
    {
     "data": {
      "text/plain": [
       "(array([5.53681491, 6.5913066 , 5.17378525, 5.02871023, 5.9582612 ]),\n",
       " array([5.58659726, 6.17481344, 5.38843928, 5.19199573, 5.53767598]))"
      ]
     },
     "execution_count": 112,
     "metadata": {},
     "output_type": "execute_result"
    }
   ],
   "source": [
    "y_pred = Y_predict(N_train, K, a, b, c)\n",
    "y_train[:5], y_pred[:5]"
   ]
  },
  {
   "cell_type": "code",
   "execution_count": 109,
   "metadata": {},
   "outputs": [],
   "source": [
    "def plotMovingAverage(SE):\n",
    "        \n",
    "    plt.figure(figsize=(15,5))\n",
    "\n",
    "\n",
    "    plt.plot(SE, label=\"Squared error\")\n",
    "    plt.legend(loc=\"upper left\")\n",
    "    plt.grid(True)\n"
   ]
  },
  {
   "cell_type": "code",
   "execution_count": 113,
   "metadata": {},
   "outputs": [
    {
     "data": {
      "image/png": "[encoded data removed]",
      "text/plain": [
       "<Figure size 1080x360 with 1 Axes>"
      ]
     },
     "metadata": {
      "needs_background": "light"
     },
     "output_type": "display_data"
    }
   ],
   "source": [
    "plotMovingAverage(MSE)"
   ]
  },
  {
   "cell_type": "code",
   "execution_count": null,
   "metadata": {},
   "outputs": [],
   "source": []
  }
 ],
 "metadata": {
  "kernelspec": {
   "display_name": "Python 3",
   "language": "python",
   "name": "python3"
  },
  "language_info": {
   "codemirror_mode": {
    "name": "ipython",
    "version": 3
   },
   "file_extension": ".py",
   "mimetype": "text/x-python",
   "name": "python",
   "nbconvert_exporter": "python",
   "pygments_lexer": "ipython3",
   "version": "3.7.0"
  }
 },
 "nbformat": 4,
 "nbformat_minor": 2
}
