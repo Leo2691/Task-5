function [ h0, h1, h2 ] = Gradient_h0( X, D, h0, h1, h2 )
%GRADIENT_COMPLEX Summary of this function goes here
%   Detailed explanation goes here
%load signal_1_inout.mat

X = X / power(2, 16);
D = D / power(2, 16);

i = 0 + 1i;

error_of_epoch = zeros(1, 10);

for l = 1:1000
    
    y = zeros(1, length(X)); %convolution(X, h0, 0) .* convolution(convolution(X, h2, 1), h1, 0);
    e = zeros(1, length(X));
    error = zeros(1, length(X));
    error_not_norm = zeros(1, length(X));
    error_norm = zeros(1, length(X));
    J_h0 = zeros(1, length(X));
    J_h1 = zeros(1, length(X));
    J_h2 = zeros(1, length(X));
    
    
    for k = length(h0):length(X)

        %mult = convolution(X(k - length(h0) + 1:k), h0, 0) .* convolution(convolution(X(k - length(h0) + 1:k), h2, 1), h1, 0);

        %all non-linear transform
        y_current = Generate(X(k - length(h0) + 1:k),h0, h1, h2);

        %simple linear filter
        %y_current = convolution(X(k - length(h0) + 1:k), h0, 0);
        y(k) = y_current(length(y_current)); % current y

        e(k) = D(k) - y(k); %error in complex
        error_norm(k) = e(k) * conj(e(k)); %error

        %h0---------------------------------------------------------------------
        outB1 = convolution(convolution(X(k - length(h0) + 1:k),h2,1), h1, 0); %output of H1-block. CONJUG
        outB1 = outB1(length(outB1));
        learning_rate_h0 = 0.1;

        for n = 1:length(h0)

            J_h0(n) =  e(k) * conj(outB1) * conj(X(k - n + 1));

            corr = learning_rate_h0 * J_h0(n);
            h0(n) = h0(n) + corr;

        end

         %h1---------------------------------------------------------------------

         learning_rate_h1 = 0.1;
         outB0 = convolution(X(k - length(h0) + 1:k), h0, 0); %output of H0-block.
         outB0 = outB0(length(outB0));
 
         for n = 1:length(h1)  
 
             f = convolution(X(k - length(h0) + 1:k), h2, 1);
             J_h1(n) =  e(k) * conj(outB0) * conj(f(length(h0) - n + 1));
 
             corr = learning_rate_h1 * J_h1(n);
             h1(n) = h1(n) + corr;
 
         end     
        
        
        %h2---------------------------------------------------------------------

        learning_rate_h2 = 0.1;
        outB0 = convolution(X(k - length(h0) + 1:k), h0, 0); %output of H0-block.
        outB0 = outB0(length(outB0));
        
        outB1 = convolution(convolution(X(k - length(h0) + 1:k), ones(1, length(h0)), 1), fliplr(h1), 0);
        outB1 = outB1(length(outB1));

        for n = 1:length(h1)  

            f = convolution(X(k - length(h0) + 1:k), ones(1, length(h0)), 1);
            J_h2(n) =  e(k) * conj(outB0) * conj(outB1) * conj(f(n));

            corr = learning_rate_h2 * J_h2(n);
            h2(n) = h2(n) + corr;

        end 
    
    end

    error_of_epoch(l) = nmse(D, e);
    
  
 
    
end
    
end






